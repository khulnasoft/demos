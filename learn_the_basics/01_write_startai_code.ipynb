{
 "cells": [
  {
   "attachments": {},
   "cell_type": "markdown",
   "metadata": {},
   "source": [
    "# Write Startai code "
   ]
  },
  {
   "attachments": {},
   "cell_type": "markdown",
   "metadata": {},
   "source": [
    "Get familiar with Startai's basic concepts and start writing framework-agnostic code."
   ]
  },
  {
   "attachments": {},
   "cell_type": "markdown",
   "metadata": {},
   "source": [
    "## Contents\n",
    "\n",
    "* [Installing Startai](#installing-startai)\n",
    "* [Importing Startai](#importing-Startai)\n",
    "* [Startai Backend Handler](#startai-backend-handler)\n",
    "* [Startai Data Structures](#data-structures)\n",
    "* [Startai Functional API](#startai-functional-api)\n",
    "* [Startai Stateful API](#startai-stateful-api)\n",
    "* [Roundup](#round-up)"
   ]
  },
  {
   "attachments": {},
   "cell_type": "markdown",
   "metadata": {},
   "source": [
    "### Installing Startai <a class=\"anchor\" id=\"installing-startai\"></a>\n",
    "\n",
    "⚠️ If you are running this notebook in Colab, you will have to install `Startai` and some dependencies manually. You can do so by running the cell below ⬇️\n",
    "\n",
    "If you want to run the notebook locally but don't have Startai installed just yet, you can check out the [Get Started section of the docs.](https://khulnasoft.com/docs/startai/overview/get_started.html)"
   ]
  },
  {
   "cell_type": "code",
   "execution_count": null,
   "metadata": {},
   "outputs": [],
   "source": [
    "!pip install startai"
   ]
  },
  {
   "attachments": {},
   "cell_type": "markdown",
   "metadata": {},
   "source": [
    "In this introduction we'll go over the basics of using Startai to write your own framework-indepent, \n",
    "future-proof code!\n",
    "\n",
    "If you want to delve deeper into the theory behind the contents of this notebook you \n",
    "can check out the [Design](https://lets-khulnasoft.com/docs/startai/overview/design.html) and the [Deep Dive](https://lets-khulnasoft.com/docs/startai/overview/deep_dive.html) sections of the documentation!"
   ]
  },
  {
   "attachments": {},
   "cell_type": "markdown",
   "metadata": {},
   "source": [
    "### Importing Startai <a class=\"anchor\" id=\"importing-startai\"></a>\n",
    "First of all, let's import Startai!"
   ]
  },
  {
   "cell_type": "code",
   "execution_count": 2,
   "metadata": {},
   "outputs": [],
   "source": [
    "import startai"
   ]
  },
  {
   "attachments": {},
   "cell_type": "markdown",
   "metadata": {},
   "source": [
    "### Startai Backend Handler <a class=\"anchor\" id=\"startai-backend-handler\"></a>"
   ]
  },
  {
   "attachments": {},
   "cell_type": "markdown",
   "metadata": {},
   "source": [
    "Startai, when used as a ML framework, is esentially an abstraction layer that supports multiple frameworks as the backend. \n",
    "This means that any code written in Startai can be executed in any of the supported frameworks, with their framework-specific data structures, functions, optimizations, quirks and perks, all managed by Startai under the hood."
   ]
  },
  {
   "attachments": {},
   "cell_type": "markdown",
   "metadata": {},
   "source": [
    "To change the backend, we can simply call `startai.set_backend` with the appropiate framework passed as a string. \n",
    "This is the simplest way to interact with the **Backend Handler** submodule, which keeps track of the \n",
    "current backend and links Startai's objects and functions with the appropriate framework-specific ones. \n",
    "\n",
    "For example:"
   ]
  },
  {
   "cell_type": "code",
   "execution_count": 4,
   "metadata": {},
   "outputs": [],
   "source": [
    "startai.set_backend(\"tensorflow\")"
   ]
  },
  {
   "attachments": {},
   "cell_type": "markdown",
   "metadata": {},
   "source": [
    "### Data Structures <a class=\"anchor\" id=\"startai-data-structures\"></a>"
   ]
  },
  {
   "attachments": {},
   "cell_type": "markdown",
   "metadata": {},
   "source": [
    "The basic data structure in Startai is the `startai.Array`. This is an abstraction of the `array` classes\n",
    "of the supported frameworks. Likewise, we also have `startai.NativeArray`, which is an alias for the `array`\n",
    "class of the selected backend.\n",
    "\n",
    "Lastly, there is another structure, the `startai.Container`, which is a subclass of `dict` optimized for recursive\n",
    "operations, you can learn more about it [here](https://khulnasoft.com/docs/startai/overview/design/startai_as_a_framework/startai_container.html)!"
   ]
  },
  {
   "attachments": {},
   "cell_type": "markdown",
   "metadata": {},
   "source": [
    "Let's create an array using `startai.array()`. In a similar fashion, we can use `startai.native_array()` to create a \n",
    "`torch.Tensor`, as the backend is now `torch`."
   ]
  },
  {
   "cell_type": "code",
   "execution_count": 10,
   "metadata": {},
   "outputs": [
    {
     "name": "stdout",
     "output_type": "stream",
     "text": [
      "<class 'startai.data_classes.array.array.Array'>\n",
      "<class 'torch.Tensor'>\n"
     ]
    }
   ],
   "source": [
    "startai.set_backend(\"torch\")\n",
    "\n",
    "x = startai.array([1, 2, 3])\n",
    "print(type(x))\n",
    "\n",
    "x = startai.native_array([1, 2, 3])\n",
    "print(type(x))"
   ]
  },
  {
   "attachments": {},
   "cell_type": "markdown",
   "metadata": {},
   "source": [
    "### Startai Functional API <a class=\"anchor\" id=\"startai-functional-api\"></a>"
   ]
  },
  {
   "attachments": {},
   "cell_type": "markdown",
   "metadata": {},
   "source": [
    "Startai does not implement its own low-level (C++/CUDA) backend for its functions. Instead, it wraps\n",
    "the functional API of existing frameworks, unifying their fundamental functions under a common signature.\n",
    "For example, let's take a look at `startai.matmul()`:"
   ]
  },
  {
   "cell_type": "code",
   "execution_count": 11,
   "metadata": {},
   "outputs": [
    {
     "name": "stdout",
     "output_type": "stream",
     "text": [
      "<class 'jaxlib.xla_extension.ArrayImpl'>\n",
      "<class 'tensorflow.python.framework.ops.EagerTensor'>\n",
      "<class 'torch.Tensor'>\n"
     ]
    }
   ],
   "source": [
    "startai.set_backend(\"jax\")\n",
    "x1, x2 = startai.array([[1], [2], [3]]), startai.array([[1, 2, 3]])\n",
    "output = startai.matmul(x1, x2)\n",
    "print(type(output.to_native()))\n",
    "\n",
    "startai.set_backend(\"tensorflow\")\n",
    "x1, x2 = startai.array([[1], [2], [3]]), startai.array([[1, 2, 3]])\n",
    "output = startai.matmul(x1, x2)\n",
    "print(type(output.to_native()))\n",
    "\n",
    "startai.set_backend(\"torch\")\n",
    "x1, x2 = startai.array([[1], [2], [3]]), startai.array([[1, 2, 3]])\n",
    "output = startai.matmul(x1, x2)\n",
    "print(type(output.to_native()))"
   ]
  },
  {
   "attachments": {},
   "cell_type": "markdown",
   "metadata": {},
   "source": [
    "The output arrays above are `startai.Array` instances, which is why we need to call the `to_native()` method to\n",
    "retrieve the underlying, native array.\n",
    "\n",
    "However, if you want the functions to return the native arrays directly, you can disable the `array_mode` of Startai\n",
    "using `startai.set_array_mode()`."
   ]
  },
  {
   "cell_type": "code",
   "execution_count": 12,
   "metadata": {},
   "outputs": [
    {
     "name": "stdout",
     "output_type": "stream",
     "text": [
      "<class 'jaxlib.xla_extension.ArrayImpl'>\n",
      "<class 'tensorflow.python.framework.ops.EagerTensor'>\n",
      "<class 'torch.Tensor'>\n"
     ]
    }
   ],
   "source": [
    "startai.set_array_mode(False)\n",
    "\n",
    "startai.set_backend(\"jax\")\n",
    "x1, x2 = startai.native_array([[1], [2], [3]]), startai.native_array([[1, 2, 3]])\n",
    "output = startai.matmul(x1, x2)\n",
    "print(type(output))\n",
    "\n",
    "startai.set_backend(\"tensorflow\")\n",
    "x1, x2 = startai.native_array([[1], [2], [3]]), startai.native_array([[1, 2, 3]])\n",
    "output = startai.matmul(x1, x2)\n",
    "print(type(output))\n",
    "\n",
    "startai.set_backend(\"torch\")\n",
    "x1, x2 = startai.native_array([[1], [2], [3]]), startai.native_array([[1, 2, 3]])\n",
    "output = startai.matmul(x1, x2)\n",
    "print(type(output))\n",
    "\n",
    "startai.set_array_mode(True)"
   ]
  },
  {
   "attachments": {},
   "cell_type": "markdown",
   "metadata": {},
   "source": [
    "Keeping this in mind, you can build any function you want as a composition of Startai functions. When executed,\n",
    "this function will ultimately call the current backend functions from its functional API."
   ]
  },
  {
   "cell_type": "code",
   "execution_count": 13,
   "metadata": {},
   "outputs": [],
   "source": [
    "def sigmoid(z):\n",
    "    return startai.divide(1, (1 + startai.exp(-z)))"
   ]
  },
  {
   "attachments": {},
   "cell_type": "markdown",
   "metadata": {},
   "source": [
    "### Startai Stateful API <a class=\"anchor\" id=\"startai-stateful-api\"></a>"
   ]
  },
  {
   "attachments": {},
   "cell_type": "markdown",
   "metadata": {},
   "source": [
    "Alongside the Functional API, Startai also has a stateful API, which builds on its functional API and the\n",
    "`startai.Container` class to provide high-level classes such as optimizers, network layers, or trainable modules.\n",
    "\n",
    "The most important stateful class within Startai is `startai.Module`, which can be used to create trainable layers\n",
    "and entire networks. Given the importance of this class, we will explore it further in the \n",
    "[Write a model using Startai](09_write_a_model_using_startai.html) tutorial!"
   ]
  },
  {
   "attachments": {},
   "cell_type": "markdown",
   "metadata": {},
   "source": [
    "### Round Up"
   ]
  },
  {
   "attachments": {},
   "cell_type": "markdown",
   "metadata": {},
   "source": [
    "Congratulations! There is much more to come, but you now have a basic understanding of Startai and how it can be used to write framework-independent, future-proof code! Now that you have a good foundation, let's keep exploring Startai's tools and their powerful features! 🚀"
   ]
  }
 ],
 "metadata": {
  "kernelspec": {
   "display_name": "Python 3 (ipykernel)",
   "language": "python",
   "name": "python3"
  },
  "language_info": {
   "codemirror_mode": {
    "name": "ipython",
    "version": 3
   },
   "file_extension": ".py",
   "mimetype": "text/x-python",
   "name": "python",
   "nbconvert_exporter": "python",
   "pygments_lexer": "ipython3",
   "version": "3.8.10"
  }
 },
 "nbformat": 4,
 "nbformat_minor": 2
}
